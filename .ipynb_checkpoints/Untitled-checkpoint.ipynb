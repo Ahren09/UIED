{
 "cells": [
  {
   "cell_type": "code",
   "execution_count": 1,
   "metadata": {},
   "outputs": [],
   "source": [
    "import cv2\n",
    "import json\n",
    "from utils.Element import Element\n",
    "from utils.util_merge import *"
   ]
  },
  {
   "cell_type": "code",
   "execution_count": null,
   "metadata": {},
   "outputs": [],
   "source": [
    "def show_elements(org_img, eles, shown_resize=None):\n",
    "    img = org_img.copy()\n",
    "    for ele in eles:\n",
    "        ele.visualize_element(img)\n",
    "    img_resize = img\n",
    "    if shown_resize is not None:\n",
    "        img_resize = cv2.resize(img, shown_resize)"
   ]
  },
  {
   "cell_type": "code",
   "execution_count": 2,
   "metadata": {},
   "outputs": [],
   "source": [
    "compo_path = 'data/output/ip/30800.json'\n",
    "text_path = 'data/output/ocr/30800.json'"
   ]
  },
  {
   "cell_type": "code",
   "execution_count": 3,
   "metadata": {},
   "outputs": [],
   "source": [
    "compo_json = json.load(open(compo_path, 'r'))\n",
    "text_json = json.load(open(text_path, 'r'))"
   ]
  },
  {
   "cell_type": "code",
   "execution_count": 4,
   "metadata": {},
   "outputs": [],
   "source": [
    "compos = []\n",
    "for compo in compo_json['compos']:\n",
    "    if compo['class'] == 'Background':\n",
    "        background = compo\n",
    "        continue\n",
    "    element = Element((compo['column_min'], compo['row_min'], compo['column_max'], compo['row_max']), compo['class'])\n",
    "    compos.append(element)"
   ]
  },
  {
   "cell_type": "code",
   "execution_count": 5,
   "metadata": {},
   "outputs": [],
   "source": [
    "texts = []\n",
    "for text in text_json['texts']:\n",
    "    element = Element((text['column_min'], text['row_min'], text['column_max'], text['row_max']), 'Text')\n",
    "    texts.append(element)"
   ]
  },
  {
   "cell_type": "code",
   "execution_count": 6,
   "metadata": {},
   "outputs": [],
   "source": [
    "if compo_json['img_shape'] != text_json['img_shape']:\n",
    "    resize_ratio = compo_json['img_shape'][0] / text_json['img_shape'][0]\n",
    "    for text in texts:\n",
    "        text.resize(resize_ratio)"
   ]
  },
  {
   "cell_type": "code",
   "execution_count": 9,
   "metadata": {},
   "outputs": [],
   "source": [
    "img = cv2.imread('data/input/30800.jpg')"
   ]
  },
  {
   "cell_type": "code",
   "execution_count": null,
   "metadata": {},
   "outputs": [],
   "source": []
  }
 ],
 "metadata": {
  "kernelspec": {
   "display_name": "Python 3",
   "language": "python",
   "name": "python3"
  },
  "language_info": {
   "codemirror_mode": {
    "name": "ipython",
    "version": 3
   },
   "file_extension": ".py",
   "mimetype": "text/x-python",
   "name": "python",
   "nbconvert_exporter": "python",
   "pygments_lexer": "ipython3",
   "version": "3.5.6"
  }
 },
 "nbformat": 4,
 "nbformat_minor": 2
}
