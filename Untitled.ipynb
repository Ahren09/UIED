{
 "cells": [
  {
   "cell_type": "code",
   "execution_count": 4,
   "metadata": {},
   "outputs": [],
   "source": [
    "import cv2\n",
    "import os\n",
    "import shutil\n",
    "import json\n",
    "import numpy as np\n",
    "from os.path import join as pjoin\n",
    "\n",
    "import detect_text.ocr as ocr\n",
    "from detect_text.Text import Text\n",
    "from detect_text.text_detection import *\n",
    "from detect_merge.merge import *\n",
    "from detect_merge.Element import Element"
   ]
  },
  {
   "cell_type": "code",
   "execution_count": 5,
   "metadata": {},
   "outputs": [],
   "source": [
    "input_path_img = 'data/input/10.jpg'\n",
    "output_root = 'data/output'\n",
    "\n",
    "name = input_path_img.split('/')[-1][:-4]\n",
    "compo_path = pjoin(output_root, 'ip', str(name) + '.json')\n",
    "text_path = pjoin(output_root, 'ocr', str(name) + '.json')"
   ]
  },
  {
   "cell_type": "code",
   "execution_count": 6,
   "metadata": {},
   "outputs": [],
   "source": [
    "compo_json = json.load(open(compo_path, 'r'))\n",
    "text_json = json.load(open(text_path, 'r'))\n",
    "\n",
    "# load text and non-text compo\n",
    "compos = []\n",
    "for compo in compo_json['compos']:\n",
    "    element = Element((compo['column_min'], compo['row_min'], compo['column_max'], compo['row_max']), compo['class'])\n",
    "    compos.append(element)\n",
    "texts = []\n",
    "for text in text_json['texts']:\n",
    "    element = Element((text['column_min'], text['row_min'], text['column_max'], text['row_max']), 'Text', text_content=text['content'])\n",
    "    texts.append(element)\n",
    "if compo_json['img_shape'] != text_json['img_shape']:\n",
    "    resize_ratio = compo_json['img_shape'][0] / text_json['img_shape'][0]\n",
    "    for text in texts:\n",
    "        text.resize(resize_ratio)\n",
    "\n",
    "img = cv2.imread(input_path_img)\n",
    "img_resize = cv2.resize(img, (compo_json['img_shape'][1], compo_json['img_shape'][0]))\n",
    "\n",
    "texts = refine_texts(texts, compo_json['img_shape'])\n",
    "elements = refine_elements(compos, texts)"
   ]
  },
  {
   "cell_type": "code",
   "execution_count": 6,
   "metadata": {},
   "outputs": [],
   "source": []
  },
  {
   "cell_type": "code",
   "execution_count": 11,
   "metadata": {},
   "outputs": [
    {
     "name": "stdout",
     "output_type": "stream",
     "text": [
      "46 22 40.0\n",
      "30 5 40.0\n",
      "43 10 40.0\n",
      "196 40 40.0\n",
      "351 147 40.0\n",
      "438 40 40.0\n",
      "594 147 40.0\n",
      "681 40 40.0\n",
      "799 109 40.0\n",
      "45 21 40.0\n",
      "108 20 40.0\n",
      "108 22 40.0\n",
      "177 20 40.0\n",
      "192 16 40.0\n",
      "234 19 40.0\n",
      "264 27 40.0\n",
      "417 16 40.0\n",
      "436 17 40.0\n",
      "475 20 40.0\n",
      "658 16 40.0\n",
      "680 18 40.0\n",
      "722 25 40.0\n",
      "749 26 40.0\n"
     ]
    }
   ],
   "source": [
    "img_resize = cv2.resize(img, (compo_json['img_shape'][1], compo_json['img_shape'][0]))\n",
    "for ele in elements:\n",
    "    print(ele.row_max, ele.height, compo_json['img_shape'][0]*0.05)\n",
    "    ele.visualize_element(img_resize, show=True)"
   ]
  },
  {
   "cell_type": "code",
   "execution_count": null,
   "metadata": {},
   "outputs": [],
   "source": []
  },
  {
   "cell_type": "code",
   "execution_count": 14,
   "metadata": {},
   "outputs": [],
   "source": [
    "visualize_texts(img, texts, (600, 800), show=True)"
   ]
  }
 ],
 "metadata": {
  "kernelspec": {
   "display_name": "Python 3",
   "language": "python",
   "name": "python3"
  },
  "language_info": {
   "codemirror_mode": {
    "name": "ipython",
    "version": 3
   },
   "file_extension": ".py",
   "mimetype": "text/x-python",
   "name": "python",
   "nbconvert_exporter": "python",
   "pygments_lexer": "ipython3",
   "version": "3.5.6"
  }
 },
 "nbformat": 4,
 "nbformat_minor": 2
}
