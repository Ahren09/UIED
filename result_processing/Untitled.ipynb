{
 "cells": [
  {
   "cell_type": "code",
   "execution_count": 1,
   "metadata": {},
   "outputs": [],
   "source": [
    "import json\n",
    "import numpy as np\n",
    "import cv2\n",
    "from glob import glob\n",
    "from os.path import join as pjoin\n",
    "from tqdm import tqdm"
   ]
  },
  {
   "cell_type": "code",
   "execution_count": 16,
   "metadata": {},
   "outputs": [],
   "source": [
    "def resize_label(bboxes, d_height, gt_height, bias=0):\n",
    "    bboxes_new = []\n",
    "    scale = gt_height/d_height\n",
    "    for bbox in bboxes:\n",
    "        bbox = [int(b * scale + bias) for b in bbox]\n",
    "        bboxes_new.append(bbox)\n",
    "    return bboxes_new\n",
    "\n",
    "\n",
    "def draw_bounding_box(org, corners, color=(0, 255, 0), line=2, show=False):\n",
    "    board = org.copy()\n",
    "    for i in range(len(corners)):\n",
    "        board = cv2.rectangle(board, (corners[i][0], corners[i][1]), (corners[i][2], corners[i][3]), color, line)\n",
    "    if show:\n",
    "        cv2.imshow('a', cv2.resize(board, (500, 1000)))\n",
    "        cv2.waitKey(0)\n",
    "    return board\n",
    "\n",
    "\n",
    "def load_detect_result_json(reslut_file_root, shrink=0):\n",
    "    def is_bottom_or_top(corner):\n",
    "        column_min, row_min, column_max, row_max = corner\n",
    "        if row_max < 36 or row_min > 725:\n",
    "            return True\n",
    "        return False\n",
    "\n",
    "    result_files = glob(pjoin(reslut_file_root, '*.json'))\n",
    "    compos_reform = {}\n",
    "    print('Loading %d detection results' % len(result_files))\n",
    "    for reslut_file in tqdm(result_files):\n",
    "        img_name = reslut_file.split('\\\\')[-1].split('.')[0]\n",
    "        compos = json.load(open(reslut_file, 'r'))['compos']\n",
    "        for compo in compos:\n",
    "            if is_bottom_or_top((compo['column_min'], compo['row_min'], compo['column_max'], compo['row_max'])):\n",
    "                continue\n",
    "            if img_name not in compos_reform:\n",
    "                compos_reform[img_name] = {'bboxes': [[compo['column_min'] + shrink, compo['row_min'] + shrink, compo['column_max'] - shrink, compo['row_max'] - shrink]],\n",
    "                                           'categories': [compo['category']]}\n",
    "            else:\n",
    "                compos_reform[img_name]['bboxes'].append([compo['column_min'] + shrink, compo['row_min'] + shrink, compo['column_max'] - shrink, compo['row_max'] - shrink])\n",
    "                compos_reform[img_name]['categories'].append(compo['category'])\n",
    "    return compos_reform\n",
    "\n",
    "\n",
    "def load_ground_truth_json(gt_file):\n",
    "    def get_img_by_id(img_id):\n",
    "        for image in images:\n",
    "            if image['id'] == img_id:\n",
    "                return image['file_name'].split('/')[-1][:-4], (image['height'], image['width'])\n",
    "\n",
    "    def cvt_bbox(bbox):\n",
    "        '''\n",
    "        :param bbox: [x,y,width,height]\n",
    "        :return: [col_min, row_min, col_max, row_max]\n",
    "        '''\n",
    "        bbox = [int(b) for b in bbox]\n",
    "        return [bbox[0], bbox[1], bbox[0] + bbox[2], bbox[1] + bbox[3]]\n",
    "\n",
    "    data = json.load(open(gt_file, 'r'))\n",
    "    images = data['images']\n",
    "    annots = data['annotations']\n",
    "    compos = {}\n",
    "    print('Loading %d ground truth' % len(annots))\n",
    "    for annot in tqdm(annots):\n",
    "        img_name, size = get_img_by_id(annot['image_id'])\n",
    "        if img_name not in compos:\n",
    "            compos[img_name] = {'bboxes': [cvt_bbox(annot['bbox'])], 'categories': [annot['category_id']], 'size':size}\n",
    "        else:\n",
    "            compos[img_name]['bboxes'].append(cvt_bbox(annot['bbox']))\n",
    "            compos[img_name]['categories'].append(annot['category_id'])\n",
    "    return compos\n",
    "\n",
    "\n",
    "def eval(detection, ground_truth, img_root, show=True, no_text=False, only_text=False):\n",
    "\n",
    "    def compo_filter(compos, flag):\n",
    "        if not no_text and not only_text:\n",
    "            return compos\n",
    "        compos_new = {'bboxes':[], 'categories':[]}\n",
    "        for k, category in enumerate(compos['categories']):\n",
    "            if only_text:\n",
    "                if flag == 'det' and category != 'TextView':\n",
    "                    continue\n",
    "                if flag == 'gt' and int(category) != 14:\n",
    "                    continue\n",
    "            elif no_text:\n",
    "                if flag == 'det' and category == 'TextView':\n",
    "                    continue\n",
    "                if flag == 'gt' and int(category) == 14:\n",
    "                    continue\n",
    "\n",
    "            compos_new['bboxes'].append(compos['bboxes'][k])\n",
    "            compos_new['categories'].append(category)\n",
    "        return compos_new\n",
    "\n",
    "    def match(org, d_bbox, gt_bboxes, matched):\n",
    "        '''\n",
    "        :param matched: mark if the ground truth component is matched\n",
    "        :param d_bbox: [col_min, row_min, col_max, row_max]\n",
    "        :param gt_bboxes: list of ground truth [[col_min, row_min, col_max, row_max]]\n",
    "        :return: Boolean: if IOU large enough or detected box is contained by ground truth\n",
    "        '''\n",
    "        area_d = (d_bbox[2] - d_bbox[0]) * (d_bbox[3] - d_bbox[1])\n",
    "        for i, gt_bbox in enumerate(gt_bboxes):\n",
    "            if matched[i] == 0:\n",
    "                continue\n",
    "            area_gt = (gt_bbox[2] - gt_bbox[0]) * (gt_bbox[3] - gt_bbox[1])\n",
    "            col_min = max(d_bbox[0], gt_bbox[0])\n",
    "            row_min = max(d_bbox[1], gt_bbox[1])\n",
    "            col_max = min(d_bbox[2], gt_bbox[2])\n",
    "            row_max = min(d_bbox[3], gt_bbox[3])\n",
    "            # if not intersected, area intersection should be 0\n",
    "            w = max(0, col_max - col_min)\n",
    "            h = max(0, row_max - row_min)\n",
    "            area_inter = w * h\n",
    "            if area_inter == 0:\n",
    "                continue\n",
    "            iod = area_inter / area_d\n",
    "            iou = area_inter / (area_d + area_gt - area_inter)\n",
    "            # if show:\n",
    "            #     cv2.putText(org, (str(round(iou, 2)) + ',' + str(round(iod, 2))), (d_bbox[0], d_bbox[1]),\n",
    "            #                 cv2.FONT_HERSHEY_SIMPLEX, 1, (0, 0, 255), 2)\n",
    "\n",
    "            if iou > 0.9 or iod == 1:\n",
    "                matched[i] = 0\n",
    "                return True\n",
    "        return False\n",
    "\n",
    "    amount = len(detection)\n",
    "    TP, FP, FN = 0, 0, 0\n",
    "    pres, recalls = [], []\n",
    "    for i, image_id in enumerate(detection):\n",
    "        TP_this, FP_this, FN_this = 0, 0, 0\n",
    "        img = cv2.imread(pjoin(img_root, image_id + '.jpg'))\n",
    "        d_compos = detection[image_id]\n",
    "        gt_compos = ground_truth[image_id]\n",
    "\n",
    "        org_height = gt_compos['size'][0]\n",
    "\n",
    "        d_compos = compo_filter(d_compos, 'det')\n",
    "        gt_compos = compo_filter(gt_compos, 'gt')\n",
    "\n",
    "        d_compos['bboxes'] = resize_label(d_compos['bboxes'], 800, org_height)\n",
    "        matched = np.ones(len(gt_compos['bboxes']), dtype=int)\n",
    "        for d_bbox in d_compos['bboxes']:\n",
    "            if match(img, d_bbox, gt_compos['bboxes'], matched):\n",
    "                TP += 1\n",
    "                TP_this += 1\n",
    "            else:\n",
    "                FP += 1\n",
    "                FP_this += 1\n",
    "        FN += sum(matched)\n",
    "        FN_this = sum(matched)\n",
    "        \n",
    "        try:\n",
    "            pre_this = TP_this / (TP_this + FP_this)\n",
    "            recall_this = TP_this / (TP_this + FN_this)\n",
    "        except:\n",
    "            print('empty')\n",
    "            continue\n",
    "    \n",
    "        pres.append(pre_this)\n",
    "        recalls.append(recall_this)\n",
    "        if show:\n",
    "            print(image_id + '.jpg')\n",
    "            print('[%d/%d] TP:%d, FP:%d, FN:%d, Precesion:%.3f, Recall:%.3f' % (\n",
    "            i, amount, TP_this, FP_this, FN_this, pre_this, recall_this))\n",
    "            cv2.imshow('org', cv2.resize(img, (500, 1000)))\n",
    "            broad = draw_bounding_box(img, d_compos['bboxes'], color=(255, 0, 0), line=3)\n",
    "            draw_bounding_box(broad, gt_compos['bboxes'], color=(0, 0, 255), show=True, line=2)\n",
    "\n",
    "        if i % 200 == 0:\n",
    "            precesion = TP / (TP + FP)\n",
    "            recall = TP / (TP + FN)\n",
    "            print(\n",
    "                '[%d/%d] TP:%d, FP:%d, FN:%d, Precesion:%.3f, Recall:%.3f' % (i, amount, TP, FP, FN, precesion, recall))\n",
    "\n",
    "    precesion = TP / (TP + FP)\n",
    "    recall = TP / (TP + FN)\n",
    "    print('[%d/%d] TP:%d, FP:%d, FN:%d, Precesion:%.3f, Recall:%.3f' % (i, amount, TP, FP, FN, precesion, recall))\n",
    "    # print(\"Average precision:%.4f; Average recall:%.3f\" % (sum(pres)/len(pres), sum(recalls)/len(recalls)))\n",
    "\n",
    "    return pres, recalls"
   ]
  },
  {
   "cell_type": "code",
   "execution_count": 24,
   "metadata": {},
   "outputs": [
    {
     "name": "stderr",
     "output_type": "stream",
     "text": [
      "  0%|▎                                                                              | 22/4708 [00:00<00:24, 190.91it/s]"
     ]
    },
    {
     "name": "stdout",
     "output_type": "stream",
     "text": [
      "Loading 4708 detection results\n"
     ]
    },
    {
     "name": "stderr",
     "output_type": "stream",
     "text": [
      "100%|█████████████████████████████████████████████████████████████████████████████| 4708/4708 [00:05<00:00, 821.76it/s]\n"
     ]
    }
   ],
   "source": [
    "detect = load_detect_result_json('E:\\\\Mulong\\\\Result\\\\rico\\\\rico_uied\\\\rico_new_uied_cls\\\\merge')"
   ]
  },
  {
   "cell_type": "code",
   "execution_count": 25,
   "metadata": {},
   "outputs": [
    {
     "name": "stderr",
     "output_type": "stream",
     "text": [
      "  9%|██████▎                                                                   | 7386/86646 [00:00<00:01, 73333.97it/s]"
     ]
    },
    {
     "name": "stdout",
     "output_type": "stream",
     "text": [
      "Loading 86646 ground truth\n"
     ]
    },
    {
     "name": "stderr",
     "output_type": "stream",
     "text": [
      "100%|██████████████████████████████████████████████████████████████████████████| 86646/86646 [00:17<00:00, 5031.08it/s]\n"
     ]
    }
   ],
   "source": [
    "gt = load_ground_truth_json('E:\\\\Mulong\\\\Datasets\\\\rico\\\\instances_test.json')"
   ]
  },
  {
   "cell_type": "code",
   "execution_count": 18,
   "metadata": {},
   "outputs": [
    {
     "name": "stdout",
     "output_type": "stream",
     "text": [
      "[0/4707] TP:1, FP:2, FN:3, Precesion:0.333, Recall:0.250\n",
      "[200/4707] TP:2255, FP:2848, FN:1383, Precesion:0.442, Recall:0.620\n",
      "[400/4707] TP:4538, FP:5843, FN:2666, Precesion:0.437, Recall:0.630\n",
      "[600/4707] TP:6816, FP:9037, FN:4133, Precesion:0.430, Recall:0.623\n",
      "[800/4707] TP:9216, FP:11613, FN:5703, Precesion:0.442, Recall:0.618\n",
      "[1000/4707] TP:11479, FP:14514, FN:7155, Precesion:0.442, Recall:0.616\n",
      "[1200/4707] TP:13617, FP:17648, FN:8428, Precesion:0.436, Recall:0.618\n",
      "[1400/4707] TP:15860, FP:20690, FN:9849, Precesion:0.434, Recall:0.617\n",
      "[1600/4707] TP:18138, FP:23757, FN:11365, Precesion:0.433, Recall:0.615\n",
      "[1800/4707] TP:20483, FP:26504, FN:13261, Precesion:0.436, Recall:0.607\n",
      "[2000/4707] TP:22965, FP:29465, FN:14625, Precesion:0.438, Recall:0.611\n",
      "[2200/4707] TP:25266, FP:32578, FN:15847, Precesion:0.437, Recall:0.615\n",
      "[2400/4707] TP:27706, FP:35461, FN:17613, Precesion:0.439, Recall:0.611\n",
      "[2600/4707] TP:29935, FP:38268, FN:19119, Precesion:0.439, Recall:0.610\n",
      "[2800/4707] TP:32130, FP:41288, FN:20657, Precesion:0.438, Recall:0.609\n",
      "[3000/4707] TP:34662, FP:44624, FN:22307, Precesion:0.437, Recall:0.608\n",
      "[3200/4707] TP:36964, FP:47765, FN:23538, Precesion:0.436, Recall:0.611\n",
      "[3400/4707] TP:39012, FP:50853, FN:24791, Precesion:0.434, Recall:0.611\n",
      "[3600/4707] TP:41194, FP:53797, FN:26084, Precesion:0.434, Recall:0.612\n",
      "[3800/4707] TP:43573, FP:56381, FN:27261, Precesion:0.436, Recall:0.615\n",
      "[4000/4707] TP:45841, FP:59168, FN:28638, Precesion:0.437, Recall:0.615\n",
      "[4200/4707] TP:47927, FP:61973, FN:30097, Precesion:0.436, Recall:0.614\n",
      "[4400/4707] TP:50099, FP:64785, FN:31455, Precesion:0.436, Recall:0.614\n",
      "[4600/4707] TP:52183, FP:67829, FN:32557, Precesion:0.435, Recall:0.616\n",
      "[4706/4707] TP:53393, FP:69230, FN:33248, Precesion:0.435, Recall:0.616\n"
     ]
    }
   ],
   "source": [
    "no_text = False\n",
    "only_text = False\n",
    "pres_all, recalls_all = eval(detect, gt, 'E:\\\\Mulong\\\\Datasets\\\\rico\\\\combined', show=False, no_text=no_text, only_text=only_text)"
   ]
  },
  {
   "cell_type": "code",
   "execution_count": 26,
   "metadata": {},
   "outputs": [
    {
     "name": "stdout",
     "output_type": "stream",
     "text": [
      "[0/4707] TP:1, FP:0, FN:0, Precesion:1.000, Recall:1.000\n",
      "empty\n",
      "empty\n",
      "[200/4707] TP:935, FP:1871, FN:765, Precesion:0.333, Recall:0.550\n",
      "empty\n",
      "empty\n",
      "[400/4707] TP:1929, FP:4023, FN:1473, Precesion:0.324, Recall:0.567\n",
      "[600/4707] TP:2911, FP:6300, FN:2306, Precesion:0.316, Recall:0.558\n",
      "[800/4707] TP:3854, FP:8080, FN:3141, Precesion:0.323, Recall:0.551\n",
      "empty\n",
      "[1000/4707] TP:4741, FP:10119, FN:3973, Precesion:0.319, Recall:0.544\n",
      "empty\n",
      "empty\n",
      "[1200/4707] TP:5635, FP:12354, FN:4772, Precesion:0.313, Recall:0.541\n",
      "empty\n",
      "empty\n",
      "empty\n",
      "[1400/4707] TP:6544, FP:14558, FN:5566, Precesion:0.310, Recall:0.540\n",
      "empty\n",
      "[1600/4707] TP:7463, FP:16654, FN:6341, Precesion:0.309, Recall:0.541\n",
      "[1800/4707] TP:8311, FP:18777, FN:7359, Precesion:0.307, Recall:0.530\n",
      "empty\n",
      "[2000/4707] TP:9390, FP:20981, FN:8060, Precesion:0.309, Recall:0.538\n",
      "empty\n",
      "[2200/4707] TP:10394, FP:23233, FN:8772, Precesion:0.309, Recall:0.542\n",
      "empty\n",
      "[2400/4707] TP:11343, FP:25276, FN:9683, Precesion:0.310, Recall:0.539\n",
      "empty\n",
      "[2600/4707] TP:12261, FP:27159, FN:10582, Precesion:0.311, Recall:0.537\n",
      "empty\n",
      "[2800/4707] TP:13095, FP:29315, FN:11427, Precesion:0.309, Recall:0.534\n",
      "empty\n",
      "empty\n",
      "[3000/4707] TP:14091, FP:31779, FN:12323, Precesion:0.307, Recall:0.533\n",
      "empty\n",
      "empty\n",
      "[3200/4707] TP:15074, FP:34116, FN:13032, Precesion:0.306, Recall:0.536\n",
      "empty\n",
      "empty\n",
      "empty\n",
      "[3400/4707] TP:15933, FP:36236, FN:13771, Precesion:0.305, Recall:0.536\n",
      "empty\n",
      "empty\n",
      "[3600/4707] TP:16767, FP:38250, FN:14447, Precesion:0.305, Recall:0.537\n",
      "empty\n",
      "[3800/4707] TP:17724, FP:39947, FN:15119, Precesion:0.307, Recall:0.540\n",
      "empty\n",
      "empty\n",
      "[4000/4707] TP:18636, FP:41865, FN:15865, Precesion:0.308, Recall:0.540\n",
      "empty\n",
      "empty\n",
      "[4200/4707] TP:19487, FP:43871, FN:16715, Precesion:0.308, Recall:0.538\n",
      "empty\n",
      "empty\n",
      "[4400/4707] TP:20387, FP:45702, FN:17382, Precesion:0.308, Recall:0.540\n",
      "empty\n",
      "[4600/4707] TP:21278, FP:47729, FN:18053, Precesion:0.308, Recall:0.541\n",
      "empty\n",
      "empty\n",
      "[4706/4707] TP:21870, FP:48657, FN:18391, Precesion:0.310, Recall:0.543\n"
     ]
    }
   ],
   "source": [
    "no_text = True\n",
    "only_text = False\n",
    "pres_non_text, recalls_non_text = eval(detect, gt, 'E:\\\\Mulong\\\\Datasets\\\\rico\\\\combined', show=False, no_text=no_text, only_text=only_text)"
   ]
  },
  {
   "cell_type": "code",
   "execution_count": 20,
   "metadata": {},
   "outputs": [],
   "source": [
    "import matplotlib.pyplot as plt\n",
    "\n",
    "def draw_plot(data):\n",
    "    fig = plt.figure()  # 创建画布\n",
    "    ax = plt.subplot()  # 创建作图区域\n",
    "    ax.boxplot([d for d in data])\n",
    "    ax.set_xticklabels(['precisions', 'recalls'])\n",
    "    plt.grid(axis='y')\n",
    "    fig.show()"
   ]
  },
  {
   "cell_type": "code",
   "execution_count": 22,
   "metadata": {},
   "outputs": [
    {
     "name": "stderr",
     "output_type": "stream",
     "text": [
      "D:\\Anaconda\\lib\\site-packages\\matplotlib\\figure.py:448: UserWarning: Matplotlib is currently using module://ipykernel.pylab.backend_inline, which is a non-GUI backend, so cannot show the figure.\n",
      "  % get_backend())\n"
     ]
    },
    {
     "data": {
      "image/png": "[encoded data removed]",
      "text/plain": [
       "<Figure size 432x288 with 1 Axes>"
      ]
     },
     "metadata": {
      "needs_background": "light"
     },
     "output_type": "display_data"
    }
   ],
   "source": [
    "draw_plot([pres_all, recalls_all])"
   ]
  },
  {
   "cell_type": "code",
   "execution_count": 27,
   "metadata": {},
   "outputs": [
    {
     "name": "stderr",
     "output_type": "stream",
     "text": [
      "D:\\Anaconda\\lib\\site-packages\\matplotlib\\figure.py:448: UserWarning: Matplotlib is currently using module://ipykernel.pylab.backend_inline, which is a non-GUI backend, so cannot show the figure.\n",
      "  % get_backend())\n"
     ]
    },
    {
     "data": {
      "image/png": "[encoded data removed]",
      "text/plain": [
       "<Figure size 432x288 with 1 Axes>"
      ]
     },
     "metadata": {
      "needs_background": "light"
     },
     "output_type": "display_data"
    }
   ],
   "source": [
    "draw_plot([pres_non_text, recalls_non_text])"
   ]
  },
  {
   "cell_type": "code",
   "execution_count": null,
   "metadata": {},
   "outputs": [],
   "source": []
  }
 ],
 "metadata": {
  "kernelspec": {
   "display_name": "Python 3",
   "language": "python",
   "name": "python3"
  },
  "language_info": {
   "codemirror_mode": {
    "name": "ipython",
    "version": 3
   },
   "file_extension": ".py",
   "mimetype": "text/x-python",
   "name": "python",
   "nbconvert_exporter": "python",
   "pygments_lexer": "ipython3",
   "version": "3.5.6"
  }
 },
 "nbformat": 4,
 "nbformat_minor": 2
}
