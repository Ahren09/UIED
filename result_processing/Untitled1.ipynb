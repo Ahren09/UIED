{
 "cells": [
  {
   "cell_type": "code",
   "execution_count": 1,
   "metadata": {},
   "outputs": [],
   "source": [
    "import json\n",
    "import numpy as np\n",
    "import cv2\n",
    "from glob import glob\n",
    "from os.path import join as pjoin\n",
    "from tqdm import tqdm"
   ]
  },
  {
   "cell_type": "code",
   "execution_count": 8,
   "metadata": {},
   "outputs": [],
   "source": [
    "def resize_label(bboxes, d_height, gt_height, bias=0):\n",
    "    bboxes_new = []\n",
    "    scale = gt_height/d_height\n",
    "    for bbox in bboxes:\n",
    "        bbox = [int(b * scale + bias) for b in bbox]\n",
    "        bboxes_new.append(bbox)\n",
    "    return bboxes_new\n",
    "\n",
    "\n",
    "def draw_bounding_box(org, corners, color=(0, 255, 0), line=2, show=False):\n",
    "    board = org.copy()\n",
    "    for i in range(len(corners)):\n",
    "        board = cv2.rectangle(board, (corners[i][0], corners[i][1]), (corners[i][2], corners[i][3]), color, line)\n",
    "    if show:\n",
    "        cv2.imshow('a', cv2.resize(board, (300, 600)))\n",
    "        cv2.waitKey(0)\n",
    "    return board\n",
    "\n",
    "\n",
    "def load_detect_result_txt(reslut_file_root):\n",
    "    def is_bottom_or_top(corner):\n",
    "        column_min, row_min, column_max, row_max = corner\n",
    "        if row_max < 36 or row_min > 725:\n",
    "            return True\n",
    "        return False\n",
    "\n",
    "    result_files = glob(pjoin(reslut_file_root, '*.txt'))\n",
    "\n",
    "    compos_reform = {}\n",
    "    print('Loading %d detection results' % len(result_files))\n",
    "    for reslut_file in tqdm(result_files):\n",
    "        file = open(reslut_file, 'r')\n",
    "        for compos in file.readlines():\n",
    "            img_name = compos.split()[0]\n",
    "            compos = compos.split()[1:]\n",
    "            for compo in compos:\n",
    "                class_name = compo.split(',')[-1]\n",
    "                compo = [int(c) for c in compo.split(',')[:-1]]\n",
    "\n",
    "                if is_bottom_or_top(compo) or class_name == '4':\n",
    "                   continue\n",
    "\n",
    "                if img_name not in compos_reform:\n",
    "                    compos_reform[img_name] = {'bboxes': [compo], 'categories': [class_name]}\n",
    "                else:\n",
    "                    compos_reform[img_name]['bboxes'].append(compo)\n",
    "                    compos_reform[img_name]['categories'].append(class_name)\n",
    "    return compos_reform\n",
    "\n",
    "\n",
    "def load_ground_truth_json(gt_file):\n",
    "    def get_img_by_id(img_id):\n",
    "        for image in images:\n",
    "            if image['id'] == img_id:\n",
    "                return image['file_name'].split('/')[-1][:-4], (image['height'], image['width'])\n",
    "\n",
    "    def cvt_bbox(bbox):\n",
    "        '''\n",
    "        :param bbox: [x,y,width,height]\n",
    "        :return: [col_min, row_min, col_max, row_max]\n",
    "        '''\n",
    "        bbox = [int(b) for b in bbox]\n",
    "        return [bbox[0], bbox[1], bbox[0] + bbox[2], bbox[1] + bbox[3]]\n",
    "\n",
    "    data = json.load(open(gt_file, 'r'))\n",
    "    images = data['images']\n",
    "    annots = data['annotations']\n",
    "    compos = {}\n",
    "    print('Loading %d ground truth' % len(annots))\n",
    "    for annot in tqdm(annots):\n",
    "        img_name, size = get_img_by_id(annot['image_id'])\n",
    "        if img_name not in compos:\n",
    "            compos[img_name] = {'bboxes': [cvt_bbox(annot['bbox'])], 'categories': [annot['category_id']], 'size':size}\n",
    "        else:\n",
    "            compos[img_name]['bboxes'].append(cvt_bbox(annot['bbox']))\n",
    "            compos[img_name]['categories'].append(annot['category_id'])\n",
    "    return compos\n",
    "\n",
    "\n",
    "def eval(detection, ground_truth, img_root, show=True):\n",
    "    def match(org, d_bbox, gt_bboxes, matched):\n",
    "        '''\n",
    "        :param matched: mark if the ground truth component is matched\n",
    "        :param d_bbox: [col_min, row_min, col_max, row_max]\n",
    "        :param gt_bboxes: list of ground truth [[col_min, row_min, col_max, row_max]]\n",
    "        :return: Boolean: if IOU large enough or detected box is contained by ground truth\n",
    "        '''\n",
    "        area_d = (d_bbox[2] - d_bbox[0]) * (d_bbox[3] - d_bbox[1])\n",
    "        for i, gt_bbox in enumerate(gt_bboxes):\n",
    "            if matched[i] == 0:\n",
    "                continue\n",
    "            area_gt = (gt_bbox[2] - gt_bbox[0]) * (gt_bbox[3] - gt_bbox[1])\n",
    "            col_min = max(d_bbox[0], gt_bbox[0])\n",
    "            row_min = max(d_bbox[1], gt_bbox[1])\n",
    "            col_max = min(d_bbox[2], gt_bbox[2])\n",
    "            row_max = min(d_bbox[3], gt_bbox[3])\n",
    "            # if not intersected, area intersection should be 0\n",
    "            w = max(0, col_max - col_min)\n",
    "            h = max(0, row_max - row_min)\n",
    "            area_inter = w * h\n",
    "            if area_inter == 0:\n",
    "                continue\n",
    "            iod = area_inter / area_d\n",
    "            iou = area_inter / (area_d + area_gt - area_inter)\n",
    "\n",
    "            # if show:\n",
    "            #     print(\"IoDetection: %.3f, IoU: %.3f\" % (iod, iou))\n",
    "            #     broad = draw_bounding_box(org, [d_bbox], color=(0, 0, 255))\n",
    "            #     draw_bounding_box(broad, [gt_bbox], color=(0, 255, 0), show=True)\n",
    "\n",
    "            if iou > 0.5 or iod == 1:\n",
    "                matched[i] = 0\n",
    "                return True\n",
    "        return False\n",
    "\n",
    "    amount = len(detection)\n",
    "    pres = []\n",
    "    recalls = []\n",
    "    for i, image_id in enumerate(detection):\n",
    "        TP, FP, FN = 0, 0, 0\n",
    "        img = cv2.imread(pjoin(img_root, image_id + '.jpg'))\n",
    "        d_compos = detection[image_id]\n",
    "        gt_compos = ground_truth[image_id]\n",
    "        d_compos['bboxes'] = resize_label(d_compos['bboxes'], 600, gt_compos['size'][0])\n",
    "        matched = np.ones(len(gt_compos['bboxes']), dtype=int)\n",
    "        for d_bbox in d_compos['bboxes']:\n",
    "            if match(img, d_bbox, gt_compos['bboxes'], matched):\n",
    "                TP += 1\n",
    "            else:\n",
    "                FP += 1\n",
    "        FN += sum(matched)\n",
    "\n",
    "        precesion = TP / (TP+FP)\n",
    "        recall = TP / (TP+FN)\n",
    "        \n",
    "        pres.append(precesion)\n",
    "        recalls.append(recall)\n",
    "        \n",
    "        if show:\n",
    "            print(\"Number of gt boxes: %d, Number of detected boxes: %d\" % (\n",
    "            len(gt_compos['bboxes']), len(d_compos['bboxes'])))\n",
    "            broad = draw_bounding_box(img,  d_compos['bboxes'], color=(0, 0, 255), line=3)\n",
    "            draw_bounding_box(broad, gt_compos['bboxes'], color=(0, 255, 0), show=show, line=2)\n",
    "            print('[%d/%d] TP:%d, FP:%d, FN:%d, Precesion:%.3f, Recall:%.3f' % (i, amount, TP, FP, FN, precesion, recall))\n",
    "\n",
    "        if i % 200 == 0:\n",
    "            print('[%d/%d] TP:%d, FP:%d, FN:%d, Precesion:%.3f, Recall:%.3f' % (i, amount, TP, FP, FN, precesion, recall))\n",
    "    \n",
    "    return pres, recalls\n"
   ]
  },
  {
   "cell_type": "code",
   "execution_count": 9,
   "metadata": {},
   "outputs": [
    {
     "name": "stderr",
     "output_type": "stream",
     "text": [
      " 10%|█         | 472/4565 [00:00<00:00, 4684.29it/s]"
     ]
    },
    {
     "name": "stdout",
     "output_type": "stream",
     "text": [
      "Loading 4565 detection results\n"
     ]
    },
    {
     "name": "stderr",
     "output_type": "stream",
     "text": [
      "100%|██████████| 4565/4565 [00:01<00:00, 4554.45it/s]\n",
      "  9%|▉         | 7752/87145 [00:00<00:01, 76956.61it/s]"
     ]
    },
    {
     "name": "stdout",
     "output_type": "stream",
     "text": [
      "Loading 87145 ground truth\n"
     ]
    },
    {
     "name": "stderr",
     "output_type": "stream",
     "text": [
      "100%|██████████| 87145/87145 [00:11<00:00, 7470.75it/s] \n"
     ]
    },
    {
     "name": "stdout",
     "output_type": "stream",
     "text": [
      "[0/4563] TP:1, FP:9, FN:4, Precesion:0.100, Recall:0.200\n",
      "[200/4563] TP:3, FP:17, FN:4, Precesion:0.150, Recall:0.429\n",
      "[400/4563] TP:3, FP:6, FN:1, Precesion:0.333, Recall:0.750\n",
      "[600/4563] TP:5, FP:33, FN:1, Precesion:0.132, Recall:0.833\n",
      "[800/4563] TP:17, FP:12, FN:12, Precesion:0.586, Recall:0.586\n",
      "[1000/4563] TP:9, FP:11, FN:6, Precesion:0.450, Recall:0.600\n",
      "[1200/4563] TP:11, FP:23, FN:4, Precesion:0.324, Recall:0.733\n",
      "[1400/4563] TP:7, FP:9, FN:4, Precesion:0.438, Recall:0.636\n",
      "[1600/4563] TP:3, FP:16, FN:7, Precesion:0.158, Recall:0.300\n",
      "[1800/4563] TP:9, FP:28, FN:5, Precesion:0.243, Recall:0.643\n",
      "[2000/4563] TP:5, FP:8, FN:2, Precesion:0.385, Recall:0.714\n",
      "[2200/4563] TP:10, FP:16, FN:14, Precesion:0.385, Recall:0.417\n",
      "[2400/4563] TP:9, FP:26, FN:21, Precesion:0.257, Recall:0.300\n",
      "[2600/4563] TP:15, FP:20, FN:10, Precesion:0.429, Recall:0.600\n",
      "[2800/4563] TP:1, FP:18, FN:5, Precesion:0.053, Recall:0.167\n",
      "[3000/4563] TP:3, FP:14, FN:9, Precesion:0.176, Recall:0.250\n",
      "[3200/4563] TP:2, FP:5, FN:8, Precesion:0.286, Recall:0.200\n",
      "[3400/4563] TP:4, FP:17, FN:2, Precesion:0.190, Recall:0.667\n",
      "[3600/4563] TP:28, FP:29, FN:29, Precesion:0.491, Recall:0.491\n",
      "[3800/4563] TP:15, FP:32, FN:13, Precesion:0.319, Recall:0.536\n",
      "[4000/4563] TP:6, FP:21, FN:4, Precesion:0.222, Recall:0.600\n",
      "[4200/4563] TP:7, FP:16, FN:14, Precesion:0.304, Recall:0.333\n",
      "[4400/4563] TP:1, FP:5, FN:3, Precesion:0.167, Recall:0.250\n"
     ]
    }
   ],
   "source": [
    "detect = load_detect_result_txt('E:\\\\Mulong\\\\Result\\\\rico_remaui')\n",
    "gt = load_ground_truth_json('E:/Mulong/Datasets/rico/instances_test_nontext.json')\n",
    "pres, recalls = eval(detect, gt, 'E:\\\\Mulong\\\\Datasets\\\\rico\\\\combined', show=False)"
   ]
  },
  {
   "cell_type": "code",
   "execution_count": 10,
   "metadata": {},
   "outputs": [
    {
     "data": {
      "text/plain": [
       "0.1"
      ]
     },
     "execution_count": 10,
     "metadata": {},
     "output_type": "execute_result"
    }
   ],
   "source": [
    "pres[0]"
   ]
  },
  {
   "cell_type": "code",
   "execution_count": 12,
   "metadata": {},
   "outputs": [
    {
     "name": "stderr",
     "output_type": "stream",
     "text": [
      "D:\\Anaconda\\lib\\site-packages\\matplotlib\\figure.py:448: UserWarning: Matplotlib is currently using module://ipykernel.pylab.backend_inline, which is a non-GUI backend, so cannot show the figure.\n",
      "  % get_backend())\n"
     ]
    },
    {
     "data": {
      "image/png": "[encoded data removed]",
      "text/plain": [
       "<Figure size 432x288 with 1 Axes>"
      ]
     },
     "metadata": {
      "needs_background": "light"
     },
     "output_type": "display_data"
    }
   ],
   "source": [
    "import matplotlib.pyplot as plt\n",
    "\n",
    "fig = plt.figure()  # 创建画布\n",
    "ax = plt.subplot()  # 创建作图区域\n",
    "ax.boxplot([pres, recalls])\n",
    "ax.set_xticklabels(['precisions', 'recalls'])\n",
    "plt.grid(axis='y')\n",
    "fig.show()"
   ]
  },
  {
   "cell_type": "code",
   "execution_count": null,
   "metadata": {},
   "outputs": [],
   "source": []
  }
 ],
 "metadata": {
  "kernelspec": {
   "display_name": "Python 3",
   "language": "python",
   "name": "python3"
  },
  "language_info": {
   "codemirror_mode": {
    "name": "ipython",
    "version": 3
   },
   "file_extension": ".py",
   "mimetype": "text/x-python",
   "name": "python",
   "nbconvert_exporter": "python",
   "pygments_lexer": "ipython3",
   "version": "3.5.6"
  }
 },
 "nbformat": 4,
 "nbformat_minor": 2
}
